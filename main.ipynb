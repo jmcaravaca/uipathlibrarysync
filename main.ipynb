{
 "cells": [
  {
   "cell_type": "markdown",
   "metadata": {},
   "source": [
    "## Initialization"
   ]
  },
  {
   "cell_type": "code",
   "execution_count": 1,
   "metadata": {},
   "outputs": [
    {
     "name": "stderr",
     "output_type": "stream",
     "text": [
      "\u001b[32m2023-10-23 08:43:09.395\u001b[0m | \u001b[1mINFO    \u001b[0m | \u001b[36mconfig.uipapiconfig\u001b[0m:\u001b[36mFetchUIPathToken\u001b[0m:\u001b[36m23\u001b[0m - \u001b[1mRefreshing token\u001b[0m\n",
      "\u001b[32m2023-10-23 08:43:09.565\u001b[0m | \u001b[34m\u001b[1mDEBUG   \u001b[0m | \u001b[36mconfig.uipapiconfig\u001b[0m:\u001b[36mFetchUIPathToken\u001b[0m:\u001b[36m26\u001b[0m - \u001b[34m\u001b[1m{'access_token': 'eyJhbGciOiJSUzI1NiIsImtpZCI6IjQzRjFFNTFDNjc5MDYyQUI5MzJCOEQwQTk0NDAwODNGNEZCMEJCMTciLCJ4NXQiOiJRX0hsSEdlUVlxdVRLNDBLbEVBSVAwLXd1eGMiLCJ0eXAiOiJKV1QifQ.eyJpc3MiOiJodHRwczovL2Nsb3VkLnVpcGF0aC5jb20vaWRlbnRpdHlfIiwibmJmIjoxNjk4MDQzMDg5LCJpYXQiOjE2OTgwNDMzODksImV4cCI6MTY5ODA0Njk4OSwiYXVkIjoiVWlQYXRoLk9yY2hlc3RyYXRvciIsInNjb3BlIjpbIk9SLkFzc2V0cyIsIk9SLkJhY2tncm91bmRUYXNrcyIsIk9SLkV4ZWN1dGlvbiIsIk9SLkZvbGRlcnMiLCJPUi5Kb2JzIiwiT1IuTWFjaGluZXMiLCJPUi5Nb25pdG9yaW5nIiwiT1IuUXVldWVzIiwiT1IuUm9ib3RzIiwiT1IuU2V0dGluZ3MiLCJPUi5UYXNrcyIsIk9SLlRlc3REYXRhUXVldWVzIiwiT1IuVXNlcnMiLCJPUi5XZWJob29rcyJdLCJzdWJfdHlwZSI6InNlcnZpY2UuZXh0ZXJuYWwiLCJwcnRfaWQiOiJjZmM0YWIwYy05MzllLTRhMjYtYjI1MS0zZjVhM2I4ZWIwY2EiLCJjbGllbnRfaWQiOiI1ODk3YWQ2ZS05YzA2LTQ4ZTgtYjMzNy05N2Q0MDkyYThkOWQiLCJqdGkiOiIxMjdFN0YzN0Q2M0MwMTYyRkY0OTA5NEVBNzQ3RTkyNSJ9.fzyJW8KToW5L5lRgyCEA0ISu2vyh87cbngYr5S9A3ndIfB2xTIv-5kCgh6lnBwLApfjYEuC9cwbMkME6q7_J7-kUOOHT-5Hd2mWtGGVc9H3b2OkMljt2Y--04rCvdUjQ69X1Uo0gvlZUrbbiMqkUqIeXJKK_fhhdRLNuOcs3O326xllnD9DJNabShWbF3v80eQKCEbd3ikXeRFp4CjO2R3otMDIPLrKjs0mWb6lNFYN_rReWstEzq6c1u_7cio2sfqwEldTFhG7p66jRy-xQZbuxNBuEnehqHrNNAUijmEiRNkj5iA11R0UNQZk334-dLe8XGCoEdinU3tBillhzXg', 'expires_in': 3600, 'token_type': 'Bearer', 'scope': 'OR.Assets OR.BackgroundTasks OR.Execution OR.Folders OR.Jobs OR.Machines OR.Monitoring OR.Queues OR.Robots OR.Settings OR.Tasks OR.TestDataQueues OR.Users OR.Webhooks', 'expires_at': 1698046989}\u001b[0m\n",
      "\u001b[32m2023-10-23 08:43:09.568\u001b[0m | \u001b[1mINFO    \u001b[0m | \u001b[36mconfig.uipapiconfig\u001b[0m:\u001b[36mFetchUIPathToken\u001b[0m:\u001b[36m30\u001b[0m - \u001b[1mToken Updated\u001b[0m\n",
      "\u001b[32m2023-10-23 08:43:09.577\u001b[0m | \u001b[1mINFO    \u001b[0m | \u001b[36mhelpers\u001b[0m:\u001b[36mclear_output\u001b[0m:\u001b[36m38\u001b[0m - \u001b[1mThe folder 'OUTPUT' does not exist.\u001b[0m\n"
     ]
    }
   ],
   "source": [
    "from loguru import logger\n",
    "from config.uipapiconfig import (\n",
    "    uipclient_folders,\n",
    "    uipclient_libraries\n",
    ")\n",
    "\n",
    "from config.settings import settings\n",
    "\n",
    "from helpers import clear_output, download_libs, get_versions, compare_versions\n",
    "# Get PRE versions\n",
    "#Clear output folder\n",
    "clear_output()\n"
   ]
  },
  {
   "cell_type": "markdown",
   "metadata": {},
   "source": [
    "# Get all versions from both hosts"
   ]
  },
  {
   "cell_type": "code",
   "execution_count": 2,
   "metadata": {},
   "outputs": [
    {
     "name": "stderr",
     "output_type": "stream",
     "text": [
      "\u001b[32m2023-10-23 08:43:12.189\u001b[0m | \u001b[1mINFO    \u001b[0m | \u001b[36mhelpers\u001b[0m:\u001b[36mget_versions\u001b[0m:\u001b[36m25\u001b[0m - \u001b[1mClarkeModetRPA.000WindowsExplorer\u001b[0m\n",
      "\u001b[32m2023-10-23 08:43:12.321\u001b[0m | \u001b[1mINFO    \u001b[0m | \u001b[36mhelpers\u001b[0m:\u001b[36mget_versions\u001b[0m:\u001b[36m25\u001b[0m - \u001b[1mClarkeModetRPA.002Mail\u001b[0m\n",
      "\u001b[32m2023-10-23 08:43:12.650\u001b[0m | \u001b[1mINFO    \u001b[0m | \u001b[36mhelpers\u001b[0m:\u001b[36mget_versions\u001b[0m:\u001b[36m25\u001b[0m - \u001b[1mClarkeModetRPA.004PDF\u001b[0m\n",
      "\u001b[32m2023-10-23 08:43:12.978\u001b[0m | \u001b[1mINFO    \u001b[0m | \u001b[36mhelpers\u001b[0m:\u001b[36mget_versions\u001b[0m:\u001b[36m25\u001b[0m - \u001b[1mClarkeModetRPA.006Apiges\u001b[0m\n",
      "\u001b[32m2023-10-23 08:43:13.617\u001b[0m | \u001b[1mINFO    \u001b[0m | \u001b[36mhelpers\u001b[0m:\u001b[36mget_versions\u001b[0m:\u001b[36m25\u001b[0m - \u001b[1mClarkeModetRPA.006Apiges.Library.Runtime\u001b[0m\n",
      "\u001b[32m2023-10-23 08:43:13.733\u001b[0m | \u001b[1mINFO    \u001b[0m | \u001b[36mhelpers\u001b[0m:\u001b[36mget_versions\u001b[0m:\u001b[36m25\u001b[0m - \u001b[1mClarkeModetRPA.008Database\u001b[0m\n",
      "\u001b[32m2023-10-23 08:43:14.041\u001b[0m | \u001b[1mINFO    \u001b[0m | \u001b[36mhelpers\u001b[0m:\u001b[36mget_versions\u001b[0m:\u001b[36m25\u001b[0m - \u001b[1mClarkeModetRPA.009Orchestrator\u001b[0m\n",
      "\u001b[32m2023-10-23 08:43:14.902\u001b[0m | \u001b[1mINFO    \u001b[0m | \u001b[36mhelpers\u001b[0m:\u001b[36mget_versions\u001b[0m:\u001b[36m25\u001b[0m - \u001b[1mClarkeModetRPA.012MS365AdminCenter\u001b[0m\n",
      "\u001b[32m2023-10-23 08:43:15.151\u001b[0m | \u001b[1mINFO    \u001b[0m | \u001b[36mhelpers\u001b[0m:\u001b[36mget_versions\u001b[0m:\u001b[36m25\u001b[0m - \u001b[1mClarkeModetRPA.014INPIBrasil\u001b[0m\n",
      "\u001b[32m2023-10-23 08:43:15.316\u001b[0m | \u001b[1mINFO    \u001b[0m | \u001b[36mhelpers\u001b[0m:\u001b[36mget_versions\u001b[0m:\u001b[36m25\u001b[0m - \u001b[1mClarkeModetRPA.014INPIBrasil.Library.Runtime\u001b[0m\n",
      "\u001b[32m2023-10-23 08:43:15.609\u001b[0m | \u001b[1mINFO    \u001b[0m | \u001b[36mhelpers\u001b[0m:\u001b[36mget_versions\u001b[0m:\u001b[36m25\u001b[0m - \u001b[1mClarkeModetRPA.015IMPI-Mexico\u001b[0m\n",
      "\u001b[32m2023-10-23 08:43:15.781\u001b[0m | \u001b[1mINFO    \u001b[0m | \u001b[36mhelpers\u001b[0m:\u001b[36mget_versions\u001b[0m:\u001b[36m25\u001b[0m - \u001b[1mClarkeModetRPA.015IMPI-Mexico.Library.Runtime\u001b[0m\n",
      "\u001b[32m2023-10-23 08:43:16.127\u001b[0m | \u001b[1mINFO    \u001b[0m | \u001b[36mhelpers\u001b[0m:\u001b[36mget_versions\u001b[0m:\u001b[36m25\u001b[0m - \u001b[1mClarkeModetRPA.016WIPO-Chile\u001b[0m\n",
      "\u001b[32m2023-10-23 08:43:16.270\u001b[0m | \u001b[1mINFO    \u001b[0m | \u001b[36mhelpers\u001b[0m:\u001b[36mget_versions\u001b[0m:\u001b[36m25\u001b[0m - \u001b[1mClarkeModetRPA.019Chrome\u001b[0m\n",
      "\u001b[32m2023-10-23 08:43:16.396\u001b[0m | \u001b[1mINFO    \u001b[0m | \u001b[36mhelpers\u001b[0m:\u001b[36mget_versions\u001b[0m:\u001b[36m25\u001b[0m - \u001b[1mClarkeModetRPA.019Chrome.Library.Runtime\u001b[0m\n",
      "\u001b[32m2023-10-23 08:43:16.504\u001b[0m | \u001b[1mINFO    \u001b[0m | \u001b[36mhelpers\u001b[0m:\u001b[36mget_versions\u001b[0m:\u001b[36m25\u001b[0m - \u001b[1mClarkeModetRPA.022EUIPO\u001b[0m\n",
      "\u001b[32m2023-10-23 08:43:16.636\u001b[0m | \u001b[1mINFO    \u001b[0m | \u001b[36mhelpers\u001b[0m:\u001b[36mget_versions\u001b[0m:\u001b[36m25\u001b[0m - \u001b[1mClarkeModetRPA.023DNPI\u001b[0m\n",
      "\u001b[32m2023-10-23 08:43:17.197\u001b[0m | \u001b[1mINFO    \u001b[0m | \u001b[36mhelpers\u001b[0m:\u001b[36mget_versions\u001b[0m:\u001b[36m25\u001b[0m - \u001b[1mClarkeModetRPA.023DNPI.Library.Runtime\u001b[0m\n",
      "\u001b[32m2023-10-23 08:43:17.285\u001b[0m | \u001b[1mINFO    \u001b[0m | \u001b[36mhelpers\u001b[0m:\u001b[36mget_versions\u001b[0m:\u001b[36m25\u001b[0m - \u001b[1mClarkeModetRPA.024OEPM\u001b[0m\n",
      "\u001b[32m2023-10-23 08:43:17.390\u001b[0m | \u001b[1mINFO    \u001b[0m | \u001b[36mhelpers\u001b[0m:\u001b[36mget_versions\u001b[0m:\u001b[36m25\u001b[0m - \u001b[1mClarkeModetRPA.025SIPI\u001b[0m\n",
      "\u001b[32m2023-10-23 08:43:17.562\u001b[0m | \u001b[1mINFO    \u001b[0m | \u001b[36mhelpers\u001b[0m:\u001b[36mget_versions\u001b[0m:\u001b[36m25\u001b[0m - \u001b[1mClarkeModetRPA.025SIPI.Library.Runtime\u001b[0m\n",
      "\u001b[32m2023-10-23 08:43:17.663\u001b[0m | \u001b[1mINFO    \u001b[0m | \u001b[36mhelpers\u001b[0m:\u001b[36mget_versions\u001b[0m:\u001b[36m25\u001b[0m - \u001b[1mClarkeModetRPA.XXXSIPI\u001b[0m\n",
      "\u001b[32m2023-10-23 08:43:17.773\u001b[0m | \u001b[1mINFO    \u001b[0m | \u001b[36mhelpers\u001b[0m:\u001b[36mget_versions\u001b[0m:\u001b[36m25\u001b[0m - \u001b[1mClarkeModetUI.000WindowsExplorer\u001b[0m\n",
      "\u001b[32m2023-10-23 08:43:18.002\u001b[0m | \u001b[1mINFO    \u001b[0m | \u001b[36mhelpers\u001b[0m:\u001b[36mget_versions\u001b[0m:\u001b[36m25\u001b[0m - \u001b[1mClarkeModetUI.004PDF\u001b[0m\n",
      "\u001b[32m2023-10-23 08:43:18.352\u001b[0m | \u001b[1mINFO    \u001b[0m | \u001b[36mhelpers\u001b[0m:\u001b[36mget_versions\u001b[0m:\u001b[36m25\u001b[0m - \u001b[1mClarkeModetUI.006Apiges\u001b[0m\n",
      "\u001b[32m2023-10-23 08:43:18.913\u001b[0m | \u001b[1mINFO    \u001b[0m | \u001b[36mhelpers\u001b[0m:\u001b[36mget_versions\u001b[0m:\u001b[36m25\u001b[0m - \u001b[1mClarkeModetUI.006Apiges.Library.Runtime\u001b[0m\n",
      "\u001b[32m2023-10-23 08:43:19.032\u001b[0m | \u001b[1mINFO    \u001b[0m | \u001b[36mhelpers\u001b[0m:\u001b[36mget_versions\u001b[0m:\u001b[36m25\u001b[0m - \u001b[1mClarkeModetUI.010FO365\u001b[0m\n",
      "\u001b[32m2023-10-23 08:43:19.213\u001b[0m | \u001b[1mINFO    \u001b[0m | \u001b[36mhelpers\u001b[0m:\u001b[36mget_versions\u001b[0m:\u001b[36m25\u001b[0m - \u001b[1mClarkeModetUI.012MS365AdminCenter\u001b[0m\n",
      "\u001b[32m2023-10-23 08:43:19.339\u001b[0m | \u001b[1mINFO    \u001b[0m | \u001b[36mhelpers\u001b[0m:\u001b[36mget_versions\u001b[0m:\u001b[36m25\u001b[0m - \u001b[1mClarkeModetUI.014INPIBrasil\u001b[0m\n",
      "\u001b[32m2023-10-23 08:43:19.967\u001b[0m | \u001b[1mINFO    \u001b[0m | \u001b[36mhelpers\u001b[0m:\u001b[36mget_versions\u001b[0m:\u001b[36m25\u001b[0m - \u001b[1mClarkeModetUI.014INPIBrasil.Library.Runtime\u001b[0m\n",
      "\u001b[32m2023-10-23 08:43:20.119\u001b[0m | \u001b[1mINFO    \u001b[0m | \u001b[36mhelpers\u001b[0m:\u001b[36mget_versions\u001b[0m:\u001b[36m25\u001b[0m - \u001b[1mClarkeModetUI.015IMPI-Mexico\u001b[0m\n",
      "\u001b[32m2023-10-23 08:43:20.243\u001b[0m | \u001b[1mINFO    \u001b[0m | \u001b[36mhelpers\u001b[0m:\u001b[36mget_versions\u001b[0m:\u001b[36m25\u001b[0m - \u001b[1mClarkeModetUI.016WIPO-Chile\u001b[0m\n",
      "\u001b[32m2023-10-23 08:43:20.347\u001b[0m | \u001b[1mINFO    \u001b[0m | \u001b[36mhelpers\u001b[0m:\u001b[36mget_versions\u001b[0m:\u001b[36m25\u001b[0m - \u001b[1mClarkeModetUI.019Chrome\u001b[0m\n",
      "\u001b[32m2023-10-23 08:43:20.450\u001b[0m | \u001b[1mINFO    \u001b[0m | \u001b[36mhelpers\u001b[0m:\u001b[36mget_versions\u001b[0m:\u001b[36m25\u001b[0m - \u001b[1mClarkeModetUI.020eDiscovery\u001b[0m\n",
      "\u001b[32m2023-10-23 08:43:20.570\u001b[0m | \u001b[1mINFO    \u001b[0m | \u001b[36mhelpers\u001b[0m:\u001b[36mget_versions\u001b[0m:\u001b[36m25\u001b[0m - \u001b[1mClarkeModetUI.022EUIPO\u001b[0m\n",
      "\u001b[32m2023-10-23 08:43:20.690\u001b[0m | \u001b[1mINFO    \u001b[0m | \u001b[36mhelpers\u001b[0m:\u001b[36mget_versions\u001b[0m:\u001b[36m25\u001b[0m - \u001b[1mClarkeModetUI.023DNPI\u001b[0m\n",
      "\u001b[32m2023-10-23 08:43:20.795\u001b[0m | \u001b[1mINFO    \u001b[0m | \u001b[36mhelpers\u001b[0m:\u001b[36mget_versions\u001b[0m:\u001b[36m25\u001b[0m - \u001b[1mClarkeModetUI.023DNPI.Library.Runtime\u001b[0m\n",
      "\u001b[32m2023-10-23 08:43:21.005\u001b[0m | \u001b[1mINFO    \u001b[0m | \u001b[36mhelpers\u001b[0m:\u001b[36mget_versions\u001b[0m:\u001b[36m25\u001b[0m - \u001b[1mClarkeModetUI.024OEPM\u001b[0m\n",
      "\u001b[32m2023-10-23 08:43:21.157\u001b[0m | \u001b[1mINFO    \u001b[0m | \u001b[36mhelpers\u001b[0m:\u001b[36mget_versions\u001b[0m:\u001b[36m25\u001b[0m - \u001b[1mClarkeModetUI.025SIPI\u001b[0m\n",
      "\u001b[32m2023-10-23 08:43:21.284\u001b[0m | \u001b[1mINFO    \u001b[0m | \u001b[36mhelpers\u001b[0m:\u001b[36mget_versions\u001b[0m:\u001b[36m25\u001b[0m - \u001b[1mClarkeModetUI.028MiComCo\u001b[0m\n",
      "\u001b[32m2023-10-23 08:43:21.529\u001b[0m | \u001b[1mINFO    \u001b[0m | \u001b[36mhelpers\u001b[0m:\u001b[36mget_versions\u001b[0m:\u001b[36m25\u001b[0m - \u001b[1mClarkeModetUI.029EPR\u001b[0m\n",
      "\u001b[32m2023-10-23 08:43:21.644\u001b[0m | \u001b[1mINFO    \u001b[0m | \u001b[36mhelpers\u001b[0m:\u001b[36mget_versions\u001b[0m:\u001b[36m25\u001b[0m - \u001b[1mClarkeModetUI.XXXSIPI\u001b[0m\n",
      "\u001b[32m2023-10-23 08:43:22.008\u001b[0m | \u001b[1mINFO    \u001b[0m | \u001b[36mhelpers\u001b[0m:\u001b[36mget_versions\u001b[0m:\u001b[36m25\u001b[0m - \u001b[1mClarkeModetRPA.000WindowsExplorer\u001b[0m\n",
      "\u001b[32m2023-10-23 08:43:22.098\u001b[0m | \u001b[1mINFO    \u001b[0m | \u001b[36mhelpers\u001b[0m:\u001b[36mget_versions\u001b[0m:\u001b[36m25\u001b[0m - \u001b[1mClarkeModetRPA.002Mail\u001b[0m\n",
      "\u001b[32m2023-10-23 08:43:22.259\u001b[0m | \u001b[1mINFO    \u001b[0m | \u001b[36mhelpers\u001b[0m:\u001b[36mget_versions\u001b[0m:\u001b[36m25\u001b[0m - \u001b[1mClarkeModetRPA.004PDF\u001b[0m\n",
      "\u001b[32m2023-10-23 08:43:22.359\u001b[0m | \u001b[1mINFO    \u001b[0m | \u001b[36mhelpers\u001b[0m:\u001b[36mget_versions\u001b[0m:\u001b[36m25\u001b[0m - \u001b[1mClarkeModetRPA.006Apiges\u001b[0m\n",
      "\u001b[32m2023-10-23 08:43:22.618\u001b[0m | \u001b[1mINFO    \u001b[0m | \u001b[36mhelpers\u001b[0m:\u001b[36mget_versions\u001b[0m:\u001b[36m25\u001b[0m - \u001b[1mClarkeModetRPA.006Apiges.Library.Runtime\u001b[0m\n",
      "\u001b[32m2023-10-23 08:43:22.842\u001b[0m | \u001b[1mINFO    \u001b[0m | \u001b[36mhelpers\u001b[0m:\u001b[36mget_versions\u001b[0m:\u001b[36m25\u001b[0m - \u001b[1mClarkeModetRPA.008Database\u001b[0m\n",
      "\u001b[32m2023-10-23 08:43:23.017\u001b[0m | \u001b[1mINFO    \u001b[0m | \u001b[36mhelpers\u001b[0m:\u001b[36mget_versions\u001b[0m:\u001b[36m25\u001b[0m - \u001b[1mClarkeModetRPA.009Orchestrator\u001b[0m\n",
      "\u001b[32m2023-10-23 08:43:23.125\u001b[0m | \u001b[1mINFO    \u001b[0m | \u001b[36mhelpers\u001b[0m:\u001b[36mget_versions\u001b[0m:\u001b[36m25\u001b[0m - \u001b[1mClarkeModetRPA.012MS365AdminCenter\u001b[0m\n",
      "\u001b[32m2023-10-23 08:43:23.301\u001b[0m | \u001b[1mINFO    \u001b[0m | \u001b[36mhelpers\u001b[0m:\u001b[36mget_versions\u001b[0m:\u001b[36m25\u001b[0m - \u001b[1mClarkeModetRPA.014INPIBrasil\u001b[0m\n",
      "\u001b[32m2023-10-23 08:43:23.455\u001b[0m | \u001b[1mINFO    \u001b[0m | \u001b[36mhelpers\u001b[0m:\u001b[36mget_versions\u001b[0m:\u001b[36m25\u001b[0m - \u001b[1mClarkeModetRPA.014INPIBrasil.Library.Runtime\u001b[0m\n",
      "\u001b[32m2023-10-23 08:43:23.629\u001b[0m | \u001b[1mINFO    \u001b[0m | \u001b[36mhelpers\u001b[0m:\u001b[36mget_versions\u001b[0m:\u001b[36m25\u001b[0m - \u001b[1mClarkeModetRPA.015IMPI-Mexico\u001b[0m\n",
      "\u001b[32m2023-10-23 08:43:25.395\u001b[0m | \u001b[1mINFO    \u001b[0m | \u001b[36mhelpers\u001b[0m:\u001b[36mget_versions\u001b[0m:\u001b[36m25\u001b[0m - \u001b[1mClarkeModetRPA.015IMPI-Mexico.Library.Runtime\u001b[0m\n",
      "\u001b[32m2023-10-23 08:43:25.494\u001b[0m | \u001b[1mINFO    \u001b[0m | \u001b[36mhelpers\u001b[0m:\u001b[36mget_versions\u001b[0m:\u001b[36m25\u001b[0m - \u001b[1mClarkeModetRPA.016WIPO-Chile\u001b[0m\n",
      "\u001b[32m2023-10-23 08:43:25.612\u001b[0m | \u001b[1mINFO    \u001b[0m | \u001b[36mhelpers\u001b[0m:\u001b[36mget_versions\u001b[0m:\u001b[36m25\u001b[0m - \u001b[1mClarkeModetRPA.019Chrome\u001b[0m\n",
      "\u001b[32m2023-10-23 08:43:25.750\u001b[0m | \u001b[1mINFO    \u001b[0m | \u001b[36mhelpers\u001b[0m:\u001b[36mget_versions\u001b[0m:\u001b[36m25\u001b[0m - \u001b[1mClarkeModetRPA.019Chrome.Library.Runtime\u001b[0m\n",
      "\u001b[32m2023-10-23 08:43:25.875\u001b[0m | \u001b[1mINFO    \u001b[0m | \u001b[36mhelpers\u001b[0m:\u001b[36mget_versions\u001b[0m:\u001b[36m25\u001b[0m - \u001b[1mClarkeModetRPA.022EUIPO\u001b[0m\n",
      "\u001b[32m2023-10-23 08:43:25.984\u001b[0m | \u001b[1mINFO    \u001b[0m | \u001b[36mhelpers\u001b[0m:\u001b[36mget_versions\u001b[0m:\u001b[36m25\u001b[0m - \u001b[1mClarkeModetRPA.023DNPI\u001b[0m\n",
      "\u001b[32m2023-10-23 08:43:26.098\u001b[0m | \u001b[1mINFO    \u001b[0m | \u001b[36mhelpers\u001b[0m:\u001b[36mget_versions\u001b[0m:\u001b[36m25\u001b[0m - \u001b[1mClarkeModetRPA.023DNPI.Library.Runtime\u001b[0m\n",
      "\u001b[32m2023-10-23 08:43:26.185\u001b[0m | \u001b[1mINFO    \u001b[0m | \u001b[36mhelpers\u001b[0m:\u001b[36mget_versions\u001b[0m:\u001b[36m25\u001b[0m - \u001b[1mClarkeModetRPA.024OEPM\u001b[0m\n",
      "\u001b[32m2023-10-23 08:43:26.312\u001b[0m | \u001b[1mINFO    \u001b[0m | \u001b[36mhelpers\u001b[0m:\u001b[36mget_versions\u001b[0m:\u001b[36m25\u001b[0m - \u001b[1mClarkeModetRPA.025SIPI\u001b[0m\n",
      "\u001b[32m2023-10-23 08:43:26.422\u001b[0m | \u001b[1mINFO    \u001b[0m | \u001b[36mhelpers\u001b[0m:\u001b[36mget_versions\u001b[0m:\u001b[36m25\u001b[0m - \u001b[1mClarkeModetRPA.XXXSIPI\u001b[0m\n",
      "\u001b[32m2023-10-23 08:43:26.558\u001b[0m | \u001b[1mINFO    \u001b[0m | \u001b[36mhelpers\u001b[0m:\u001b[36mget_versions\u001b[0m:\u001b[36m25\u001b[0m - \u001b[1mClarkeModetUI.000WindowsExplorer\u001b[0m\n",
      "\u001b[32m2023-10-23 08:43:26.826\u001b[0m | \u001b[1mINFO    \u001b[0m | \u001b[36mhelpers\u001b[0m:\u001b[36mget_versions\u001b[0m:\u001b[36m25\u001b[0m - \u001b[1mClarkeModetUI.004PDF\u001b[0m\n",
      "\u001b[32m2023-10-23 08:43:26.910\u001b[0m | \u001b[1mINFO    \u001b[0m | \u001b[36mhelpers\u001b[0m:\u001b[36mget_versions\u001b[0m:\u001b[36m25\u001b[0m - \u001b[1mClarkeModetUI.006Apiges\u001b[0m\n",
      "\u001b[32m2023-10-23 08:43:27.206\u001b[0m | \u001b[1mINFO    \u001b[0m | \u001b[36mhelpers\u001b[0m:\u001b[36mget_versions\u001b[0m:\u001b[36m25\u001b[0m - \u001b[1mClarkeModetUI.010FO365\u001b[0m\n",
      "\u001b[32m2023-10-23 08:43:27.329\u001b[0m | \u001b[1mINFO    \u001b[0m | \u001b[36mhelpers\u001b[0m:\u001b[36mget_versions\u001b[0m:\u001b[36m25\u001b[0m - \u001b[1mClarkeModetUI.012MS365AdminCenter\u001b[0m\n",
      "\u001b[32m2023-10-23 08:43:27.441\u001b[0m | \u001b[1mINFO    \u001b[0m | \u001b[36mhelpers\u001b[0m:\u001b[36mget_versions\u001b[0m:\u001b[36m25\u001b[0m - \u001b[1mClarkeModetUI.014INPIBrasil\u001b[0m\n",
      "\u001b[32m2023-10-23 08:43:27.618\u001b[0m | \u001b[1mINFO    \u001b[0m | \u001b[36mhelpers\u001b[0m:\u001b[36mget_versions\u001b[0m:\u001b[36m25\u001b[0m - \u001b[1mClarkeModetUI.014INPIBrasil.Library.Runtime\u001b[0m\n",
      "\u001b[32m2023-10-23 08:43:27.731\u001b[0m | \u001b[1mINFO    \u001b[0m | \u001b[36mhelpers\u001b[0m:\u001b[36mget_versions\u001b[0m:\u001b[36m25\u001b[0m - \u001b[1mClarkeModetUI.015IMPI-Mexico\u001b[0m\n",
      "\u001b[32m2023-10-23 08:43:27.879\u001b[0m | \u001b[1mINFO    \u001b[0m | \u001b[36mhelpers\u001b[0m:\u001b[36mget_versions\u001b[0m:\u001b[36m25\u001b[0m - \u001b[1mClarkeModetUI.016WIPO-Chile\u001b[0m\n",
      "\u001b[32m2023-10-23 08:43:28.024\u001b[0m | \u001b[1mINFO    \u001b[0m | \u001b[36mhelpers\u001b[0m:\u001b[36mget_versions\u001b[0m:\u001b[36m25\u001b[0m - \u001b[1mClarkeModetUI.019Chrome\u001b[0m\n",
      "\u001b[32m2023-10-23 08:43:28.152\u001b[0m | \u001b[1mINFO    \u001b[0m | \u001b[36mhelpers\u001b[0m:\u001b[36mget_versions\u001b[0m:\u001b[36m25\u001b[0m - \u001b[1mClarkeModetUI.020eDiscovery\u001b[0m\n",
      "\u001b[32m2023-10-23 08:43:28.269\u001b[0m | \u001b[1mINFO    \u001b[0m | \u001b[36mhelpers\u001b[0m:\u001b[36mget_versions\u001b[0m:\u001b[36m25\u001b[0m - \u001b[1mClarkeModetUI.022EUIPO\u001b[0m\n",
      "\u001b[32m2023-10-23 08:43:28.410\u001b[0m | \u001b[1mINFO    \u001b[0m | \u001b[36mhelpers\u001b[0m:\u001b[36mget_versions\u001b[0m:\u001b[36m25\u001b[0m - \u001b[1mClarkeModetUI.023DNPI\u001b[0m\n",
      "\u001b[32m2023-10-23 08:43:28.594\u001b[0m | \u001b[1mINFO    \u001b[0m | \u001b[36mhelpers\u001b[0m:\u001b[36mget_versions\u001b[0m:\u001b[36m25\u001b[0m - \u001b[1mClarkeModetUI.023DNPI.Library.Runtime\u001b[0m\n",
      "\u001b[32m2023-10-23 08:43:28.686\u001b[0m | \u001b[1mINFO    \u001b[0m | \u001b[36mhelpers\u001b[0m:\u001b[36mget_versions\u001b[0m:\u001b[36m25\u001b[0m - \u001b[1mClarkeModetUI.024OEPM\u001b[0m\n",
      "\u001b[32m2023-10-23 08:43:28.801\u001b[0m | \u001b[1mINFO    \u001b[0m | \u001b[36mhelpers\u001b[0m:\u001b[36mget_versions\u001b[0m:\u001b[36m25\u001b[0m - \u001b[1mClarkeModetUI.025SIPI\u001b[0m\n",
      "\u001b[32m2023-10-23 08:43:28.950\u001b[0m | \u001b[1mINFO    \u001b[0m | \u001b[36mhelpers\u001b[0m:\u001b[36mget_versions\u001b[0m:\u001b[36m25\u001b[0m - \u001b[1mClarkeModetUI.028MiComCo\u001b[0m\n",
      "\u001b[32m2023-10-23 08:43:29.062\u001b[0m | \u001b[1mINFO    \u001b[0m | \u001b[36mhelpers\u001b[0m:\u001b[36mget_versions\u001b[0m:\u001b[36m25\u001b[0m - \u001b[1mClarkeModetUI.029EPR\u001b[0m\n",
      "\u001b[32m2023-10-23 08:43:29.212\u001b[0m | \u001b[1mINFO    \u001b[0m | \u001b[36mhelpers\u001b[0m:\u001b[36mget_versions\u001b[0m:\u001b[36m25\u001b[0m - \u001b[1mClarkeModetUI.XXXSIPI\u001b[0m\n",
      "\u001b[32m2023-10-23 08:43:29.314\u001b[0m | \u001b[1mINFO    \u001b[0m | \u001b[36m__main__\u001b[0m:\u001b[36m<module>\u001b[0m:\u001b[36m8\u001b[0m - \u001b[1m['ClarkeModetRPA.014INPIBrasil:1.0.25', 'ClarkeModetUI.006Apiges:2.2.86', 'ClarkeModetRPA.006Apiges.Library.Runtime:4.0.32', 'ClarkeModetRPA.006Apiges:4.0.33', 'ClarkeModetRPA.025SIPI.Library.Runtime:1.0.12', 'ClarkeModetRPA.014INPIBrasil:1.0.24', 'ClarkeModetRPA.019Chrome:1.0.17', 'ClarkeModetRPA.025SIPI.Library.Runtime:1.0.14', 'ClarkeModetRPA.019Chrome:1.0.18', 'ClarkeModetUI.019Chrome:1.0.11', 'ClarkeModetUI.006Apiges:2.2.84', 'ClarkeModetRPA.019Chrome.Library.Runtime:1.0.17', 'ClarkeModetUI.014INPIBrasil:1.0.25', 'ClarkeModetRPA.014INPIBrasil.Library.Runtime:1.0.23', 'ClarkeModetRPA.006Apiges:4.0.32', 'ClarkeModetRPA.014INPIBrasil:1.0.23', 'ClarkeModetRPA.014INPIBrasil.Library.Runtime:1.0.24', 'ClarkeModetRPA.006Apiges.Library.Runtime:4.0.33', 'ClarkeModetRPA.025SIPI:1.0.13', 'ClarkeModetRPA.014INPIBrasil.Library.Runtime:1.0.25', 'ClarkeModetRPA.025SIPI.Library.Runtime:1.0.13', 'ClarkeModetRPA.014INPIBrasil:1.0.22', 'ClarkeModetRPA.006Apiges:4.0.35', 'ClarkeModetRPA.025SIPI:1.0.12', 'ClarkeModetUI.006Apiges.Library.Runtime:2.2.86', 'ClarkeModetRPA.006Apiges:4.0.34', 'ClarkeModetRPA.019Chrome.Library.Runtime:1.0.18', 'ClarkeModetUI.006Apiges:2.2.85', 'ClarkeModetRPA.025SIPI:1.0.14', 'ClarkeModetUI.006Apiges.Library.Runtime:2.2.85', 'ClarkeModetRPA.006Apiges:4.0.36', 'ClarkeModetRPA.014INPIBrasil.Library.Runtime:1.0.22']\u001b[0m\n",
      "\u001b[32m2023-10-23 08:43:29.317\u001b[0m | \u001b[1mINFO    \u001b[0m | \u001b[36m__main__\u001b[0m:\u001b[36m<module>\u001b[0m:\u001b[36m9\u001b[0m - \u001b[1m32\u001b[0m\n"
     ]
    }
   ],
   "source": [
    "host_pre = f\"https://cloud.uipath.com/{settings.UIP_LOGICAL_NAME}/{settings.UIP_TENANT_PRE}/orchestrator_\"\n",
    "host_pro = f\"https://cloud.uipath.com/{settings.UIP_LOGICAL_NAME}/{settings.UIP_TENANT_PRO}/orchestrator_\"\n",
    "\n",
    "\n",
    "versionspre = get_versions(host_pre)\n",
    "versionspro = get_versions(host_pro)\n",
    "compared = compare_versions(versionspre, versionspro)\n",
    "logger.info(compared)\n",
    "logger.info(len(compared))"
   ]
  },
  {
   "cell_type": "markdown",
   "metadata": {},
   "source": [
    "# Download new libraries"
   ]
  },
  {
   "cell_type": "code",
   "execution_count": null,
   "metadata": {},
   "outputs": [],
   "source": [
    "uipclient_libraries.api_client.configuration.host = host_pre\n",
    "downloaded = download_libs(compared)\n",
    "downloaded"
   ]
  },
  {
   "cell_type": "markdown",
   "metadata": {},
   "source": [
    "# Upload to host"
   ]
  },
  {
   "cell_type": "code",
   "execution_count": null,
   "metadata": {},
   "outputs": [],
   "source": [
    "uipclient_libraries.api_client.configuration.host = host_pro\n",
    "for file in downloaded:\n",
    "    logger.debug(file)\n",
    "    try:\n",
    "        resp = uipclient_libraries.libraries_upload_package(file=file, _request_timeout=10)\n",
    "        logger.info(resp)\n",
    "    except Exception as e:\n",
    "        logger.error(e)\n",
    "        \n",
    "    "
   ]
  }
 ],
 "metadata": {
  "kernelspec": {
   "display_name": ".venv",
   "language": "python",
   "name": "python3"
  },
  "language_info": {
   "codemirror_mode": {
    "name": "ipython",
    "version": 3
   },
   "file_extension": ".py",
   "mimetype": "text/x-python",
   "name": "python",
   "nbconvert_exporter": "python",
   "pygments_lexer": "ipython3",
   "version": "3.11.3"
  }
 },
 "nbformat": 4,
 "nbformat_minor": 2
}
